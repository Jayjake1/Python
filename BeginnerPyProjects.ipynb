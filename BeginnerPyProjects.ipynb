{
  "nbformat": 4,
  "nbformat_minor": 0,
  "metadata": {
    "colab": {
      "name": "BeginnerPyProjects.ipynb",
      "provenance": [],
      "collapsed_sections": [],
      "authorship_tag": "ABX9TyNzz2T0H9ArGP77KuzDlrtD",
      "include_colab_link": true
    },
    "kernelspec": {
      "name": "python3",
      "display_name": "Python 3"
    },
    "language_info": {
      "name": "python"
    }
  },
  "cells": [
    {
      "cell_type": "markdown",
      "metadata": {
        "id": "view-in-github",
        "colab_type": "text"
      },
      "source": [
        "<a href=\"https://colab.research.google.com/github/Jayjake1/Python/blob/main/BeginnerPyProjects.ipynb\" target=\"_parent\"><img src=\"https://colab.research.google.com/assets/colab-badge.svg\" alt=\"Open In Colab\"/></a>"
      ]
    },
    {
      "cell_type": "markdown",
      "metadata": {
        "id": "DFENnKe_r_p7"
      },
      "source": [
        "## Functions, Blocks and while loops\n",
        "[Python documentation functions](https://docs.python.org/3/library/functions.html)  <-- link\n"
      ]
    },
    {
      "cell_type": "code",
      "metadata": {
        "colab": {
          "base_uri": "https://localhost:8080/"
        },
        "id": "nAphpg5y4NHD",
        "outputId": "6765960d-e435-4b28-ec93-2fb2b464a4b0"
      },
      "source": [
        "f'{14:#b}', f'{14:b}' #this gives a tailored output"
      ],
      "execution_count": null,
      "outputs": [
        {
          "output_type": "execute_result",
          "data": {
            "text/plain": [
              "('0b1110', '1110')"
            ]
          },
          "metadata": {},
          "execution_count": 2
        }
      ]
    },
    {
      "cell_type": "markdown",
      "metadata": {
        "id": "lipu-3UstqJt"
      },
      "source": [
        "print()  -- because of paranthesis we can say its a number"
      ]
    },
    {
      "cell_type": "code",
      "metadata": {
        "id": "zYSBq2Pu4aw2",
        "colab": {
          "base_uri": "https://localhost:8080/"
        },
        "outputId": "0eaea7de-f3bd-4955-bcf7-b4adeec18a82"
      },
      "source": [
        "def new_function():  # here paranthesis differentiates function from varaiable, new_function--This is variable, new_function() -- This is a function\n",
        "  print('Hello')  # Here function is created, without calling it do's nothing\n",
        "  print('Bye') #must be indented\n",
        "\n",
        "new_function()  # Here we calling the function, as we didn't give arguments, we are not passing parameters  "
      ],
      "execution_count": null,
      "outputs": [
        {
          "output_type": "stream",
          "name": "stdout",
          "text": [
            "Hello\n",
            "Bye\n"
          ]
        }
      ]
    },
    {
      "cell_type": "code",
      "metadata": {
        "id": "cAngMU140Eku"
      },
      "source": [
        "# drawing a square in reeborg's world\n",
        "def turn_right():\n",
        "    turn_left()\n",
        "    turn_left()\n",
        "    turn_left()\n",
        "def forward_move():\n",
        "    move()\n",
        "    move()\n",
        "def square():\n",
        "    forward_move()\n",
        "    turn_right()\n",
        "    forward_move()\n",
        "    turn_right()\n",
        "    forward_move()\n",
        "    turn_right()\n",
        "    forward_move()\n",
        "    turn_right()\n",
        "    \n",
        "turn_left()\n",
        "square()"
      ],
      "execution_count": null,
      "outputs": []
    },
    {
      "cell_type": "markdown",
      "metadata": {
        "id": "3OM2PDWnr9bq"
      },
      "source": [
        "### Spaces are preferred over tabs for indentation - 4spaces\n",
        "\n",
        "## While loop\n",
        "if no increment or decrement is set it will go infinate loop\n",
        "\n",
        "\n",
        "    while something_is_true:\n",
        "        run code until condition becomes false\n",
        "\n",
        "For loop, is used when you know there is dicrete or known len list \n"
      ]
    },
    {
      "cell_type": "markdown",
      "metadata": {
        "id": "gd6MizQg0BBz"
      },
      "source": [
        "# Hangman"
      ]
    },
    {
      "cell_type": "code",
      "metadata": {
        "id": "0ER2GSXPtAT7"
      },
      "source": [
        "stages = ['''\n",
        "  +---+\n",
        "  |   |\n",
        "  O   |\n",
        " /|\\  |\n",
        " / \\  |\n",
        "      |\n",
        "=========\n",
        "''', '''\n",
        "  +---+\n",
        "  |   |\n",
        "  O   |\n",
        " /|\\  |\n",
        " /    |\n",
        "      |\n",
        "=========\n",
        "''', '''\n",
        "  +---+\n",
        "  |   |\n",
        "  O   |\n",
        " /|\\  |\n",
        "      |\n",
        "      |\n",
        "=========\n",
        "''', '''\n",
        "  +---+\n",
        "  |   |\n",
        "  O   |\n",
        " /|   |\n",
        "      |\n",
        "      |\n",
        "=========''', '''\n",
        "  +---+\n",
        "  |   |\n",
        "  O   |\n",
        "  |   |\n",
        "      |\n",
        "      |\n",
        "=========\n",
        "''', '''\n",
        "  +---+\n",
        "  |   |\n",
        "  O   |\n",
        "      |\n",
        "      |\n",
        "      |\n",
        "=========\n",
        "''', '''\n",
        "  +---+\n",
        "  |   |\n",
        "      |\n",
        "      |\n",
        "      |\n",
        "      |\n",
        "=========\n",
        "''']\n",
        "\n",
        "logo = ''' \n",
        " _                                             \n",
        "| |                                            \n",
        "| |__   __ _ _ __   __ _ _ __ ___   __ _ _ __  \n",
        "| '_ \\ / _` | '_ \\ / _` | '_ ` _ \\ / _` | '_ \\ \n",
        "| | | | (_| | | | | (_| | | | | | | (_| | | | |\n",
        "|_| |_|\\__,_|_| |_|\\__, |_| |_| |_|\\__,_|_| |_|\n",
        "                    __/ |                      \n",
        "                   |___/    '''"
      ],
      "execution_count": 5,
      "outputs": []
    },
    {
      "cell_type": "code",
      "metadata": {
        "id": "qm45ewX6tM1o"
      },
      "source": [
        "word_list = [\n",
        "'abruptly', \n",
        "'absurd', \n",
        "'abyss', \n",
        "'affix', \n",
        "'askew', \n",
        "'avenue', \n",
        "'awkward', \n",
        "'axiom', \n",
        "'azure', \n",
        "'bagpipes', \n",
        "'bandwagon', \n",
        "'banjo', \n",
        "'bayou', \n",
        "'beekeeper', \n",
        "'bikini', \n",
        "'blitz', \n",
        "'blizzard', \n",
        "'boggle', \n",
        "'bookworm', \n",
        "'boxcar', \n",
        "'boxful', \n",
        "'buckaroo', \n",
        "'buffalo', \n",
        "'buffoon', \n",
        "'buxom', \n",
        "'buzzard', \n",
        "'buzzing', \n",
        "'buzzwords', \n",
        "'caliph', \n",
        "'cobweb', \n",
        "'cockiness', \n",
        "'croquet', \n",
        "'crypt', \n",
        "'curacao', \n",
        "'cycle', \n",
        "'daiquiri', \n",
        "'dirndl', \n",
        "'disavow', \n",
        "'dizzying', \n",
        "'duplex', \n",
        "'dwarves', \n",
        "'embezzle', \n",
        "'equip', \n",
        "'espionage', \n",
        "'euouae', \n",
        "'exodus', \n",
        "'faking', \n",
        "'fishhook', \n",
        "'fixable', \n",
        "'fjord', \n",
        "'flapjack', \n",
        "'flopping', \n",
        "'fluffiness', \n",
        "'flyby', \n",
        "'foxglove', \n",
        "'frazzled', \n",
        "'frizzled', \n",
        "'fuchsia', \n",
        "'funny', \n",
        "'gabby', \n",
        "'galaxy', \n",
        "'galvanize', \n",
        "'gazebo', \n",
        "'giaour', \n",
        "'gizmo', \n",
        "'glowworm', \n",
        "'glyph', \n",
        "'gnarly', \n",
        "'gnostic', \n",
        "'gossip', \n",
        "'grogginess', \n",
        "'haiku', \n",
        "'haphazard', \n",
        "'hyphen', \n",
        "'iatrogenic', \n",
        "'icebox', \n",
        "'injury', \n",
        "'ivory', \n",
        "'ivy', \n",
        "'jackpot', \n",
        "'jaundice', \n",
        "'jawbreaker', \n",
        "'jaywalk', \n",
        "'jazziest', \n",
        "'jazzy', \n",
        "'jelly', \n",
        "'jigsaw', \n",
        "'jinx', \n",
        "'jiujitsu', \n",
        "'jockey', \n",
        "'jogging', \n",
        "'joking', \n",
        "'jovial', \n",
        "'joyful', \n",
        "'juicy', \n",
        "'jukebox', \n",
        "'jumbo', \n",
        "'kayak', \n",
        "'kazoo', \n",
        "'keyhole', \n",
        "'khaki', \n",
        "'kilobyte', \n",
        "'kiosk', \n",
        "'kitsch', \n",
        "'kiwifruit', \n",
        "'klutz', \n",
        "'knapsack', \n",
        "'larynx', \n",
        "'lengths', \n",
        "'lucky', \n",
        "'luxury', \n",
        "'lymph', \n",
        "'marquis', \n",
        "'matrix', \n",
        "'megahertz', \n",
        "'microwave', \n",
        "'mnemonic', \n",
        "'mystify', \n",
        "'naphtha', \n",
        "'nightclub', \n",
        "'nowadays', \n",
        "'numbskull', \n",
        "'nymph', \n",
        "'onyx', \n",
        "'ovary', \n",
        "'oxidize', \n",
        "'oxygen', \n",
        "'pajama', \n",
        "'peekaboo', \n",
        "'phlegm', \n",
        "'pixel', \n",
        "'pizazz', \n",
        "'pneumonia', \n",
        "'polka', \n",
        "'pshaw', \n",
        "'psyche', \n",
        "'puppy', \n",
        "'puzzling', \n",
        "'quartz', \n",
        "'queue', \n",
        "'quips', \n",
        "'quixotic', \n",
        "'quiz', \n",
        "'quizzes', \n",
        "'quorum', \n",
        "'razzmatazz', \n",
        "'rhubarb', \n",
        "'rhythm', \n",
        "'rickshaw', \n",
        "'schnapps', \n",
        "'scratch', \n",
        "'shiv', \n",
        "'snazzy', \n",
        "'sphinx', \n",
        "'spritz', \n",
        "'squawk', \n",
        "'staff', \n",
        "'strength', \n",
        "'strengths', \n",
        "'stretch', \n",
        "'stronghold', \n",
        "'stymied', \n",
        "'subway', \n",
        "'swivel', \n",
        "'syndrome', \n",
        "'thriftless', \n",
        "'thumbscrew', \n",
        "'topaz', \n",
        "'transcript', \n",
        "'transgress', \n",
        "'transplant', \n",
        "'triphthong', \n",
        "'twelfth', \n",
        "'twelfths', \n",
        "'unknown', \n",
        "'unworthy', \n",
        "'unzip', \n",
        "'uptown', \n",
        "'vaporize', \n",
        "'vixen', \n",
        "'vodka', \n",
        "'voodoo', \n",
        "'vortex', \n",
        "'voyeurism', \n",
        "'walkway', \n",
        "'waltz', \n",
        "'wave', \n",
        "'wavy', \n",
        "'waxy', \n",
        "'wellspring', \n",
        "'wheezy', \n",
        "'whiskey', \n",
        "'whizzing', \n",
        "'whomever', \n",
        "'wimpy', \n",
        "'witchcraft', \n",
        "'wizard', \n",
        "'woozy', \n",
        "'wristwatch', \n",
        "'wyvern', \n",
        "'xylophone', \n",
        "'yachtsman', \n",
        "'yippee', \n",
        "'yoked', \n",
        "'youthful', \n",
        "'yummy', \n",
        "'zephyr', \n",
        "'zigzag', \n",
        "'zigzagging', \n",
        "'zilch', \n",
        "'zipper', \n",
        "'zodiac', \n",
        "'zombie', \n",
        "]"
      ],
      "execution_count": 6,
      "outputs": []
    },
    {
      "cell_type": "code",
      "metadata": {
        "colab": {
          "base_uri": "https://localhost:8080/"
        },
        "id": "d47XhGf00R23",
        "outputId": "2c2bbba6-aeae-42f2-e6de-ecdeed087d45"
      },
      "source": [
        "import random \n",
        "#words = ['antman','spiderman','wasp']\n",
        "sys_word = random.choice(word_list)\n",
        "print(logo)\n",
        "count = 6\n",
        "end_game = False\n",
        "display=[]\n",
        "for _ in range(len(sys_word)):\n",
        "  display += '_'\n",
        "print(display)\n",
        "\n",
        "while not end_game:\n",
        "  user_input = input('enter the letter:').lower()  \n",
        "  for position in range(len(sys_word)):\n",
        "    letter = sys_word[position]\n",
        "    if letter == user_input:\n",
        "      display[position] = letter\n",
        "    # else:\n",
        "    #   count -= 1\n",
        "  print(display)  \n",
        "  if user_input not in sys_word:\n",
        "    count -= 1\n",
        "    if count == 0:\n",
        "      end_game = True\n",
        "      print('---> Game ended <---')\n",
        "  if '_' not in display:\n",
        "    end_game = True\n",
        "    print('You win..')\n",
        "  print(stages[count])        \n",
        "    "
      ],
      "execution_count": 8,
      "outputs": [
        {
          "output_type": "stream",
          "name": "stdout",
          "text": [
            " \n",
            " _                                             \n",
            "| |                                            \n",
            "| |__   __ _ _ __   __ _ _ __ ___   __ _ _ __  \n",
            "| '_ \\ / _` | '_ \\ / _` | '_ ` _ \\ / _` | '_ \\ \n",
            "| | | | (_| | | | | (_| | | | | | | (_| | | | |\n",
            "|_| |_|\\__,_|_| |_|\\__, |_| |_| |_|\\__,_|_| |_|\n",
            "                    __/ |                      \n",
            "                   |___/    \n",
            "['_', '_', '_', '_', '_', '_', '_', '_', '_', '_']\n",
            "enter the letter:a\n",
            "['_', 'a', '_', '_', '_', '_', '_', '_', '_', '_']\n",
            "\n",
            "  +---+\n",
            "  |   |\n",
            "      |\n",
            "      |\n",
            "      |\n",
            "      |\n",
            "=========\n",
            "\n",
            "enter the letter:b\n",
            "['_', 'a', '_', '_', '_', '_', '_', '_', '_', '_']\n",
            "\n",
            "  +---+\n",
            "  |   |\n",
            "  O   |\n",
            "      |\n",
            "      |\n",
            "      |\n",
            "=========\n",
            "\n",
            "enter the letter:c\n",
            "['_', 'a', '_', '_', '_', '_', '_', '_', '_', 'c']\n",
            "\n",
            "  +---+\n",
            "  |   |\n",
            "  O   |\n",
            "      |\n",
            "      |\n",
            "      |\n",
            "=========\n",
            "\n",
            "enter the letter:w\n",
            "['_', 'a', '_', '_', '_', '_', '_', '_', '_', 'c']\n",
            "\n",
            "  +---+\n",
            "  |   |\n",
            "  O   |\n",
            "  |   |\n",
            "      |\n",
            "      |\n",
            "=========\n",
            "\n",
            "enter the letter:s\n",
            "['_', 'a', '_', '_', '_', '_', '_', '_', '_', 'c']\n",
            "\n",
            "  +---+\n",
            "  |   |\n",
            "  O   |\n",
            " /|   |\n",
            "      |\n",
            "      |\n",
            "=========\n",
            "enter the letter:r\n",
            "['_', 'a', '_', 'r', '_', '_', '_', '_', '_', 'c']\n",
            "\n",
            "  +---+\n",
            "  |   |\n",
            "  O   |\n",
            " /|   |\n",
            "      |\n",
            "      |\n",
            "=========\n",
            "enter the letter:a\n",
            "['_', 'a', '_', 'r', '_', '_', '_', '_', '_', 'c']\n",
            "\n",
            "  +---+\n",
            "  |   |\n",
            "  O   |\n",
            " /|   |\n",
            "      |\n",
            "      |\n",
            "=========\n",
            "enter the letter:t\n",
            "['_', 'a', 't', 'r', '_', '_', '_', '_', '_', 'c']\n",
            "\n",
            "  +---+\n",
            "  |   |\n",
            "  O   |\n",
            " /|   |\n",
            "      |\n",
            "      |\n",
            "=========\n",
            "enter the letter:y\n",
            "['_', 'a', 't', 'r', '_', '_', '_', '_', '_', 'c']\n",
            "\n",
            "  +---+\n",
            "  |   |\n",
            "  O   |\n",
            " /|\\  |\n",
            "      |\n",
            "      |\n",
            "=========\n",
            "\n",
            "enter the letter:p\n",
            "['_', 'a', 't', 'r', '_', '_', '_', '_', '_', 'c']\n",
            "\n",
            "  +---+\n",
            "  |   |\n",
            "  O   |\n",
            " /|\\  |\n",
            " /    |\n",
            "      |\n",
            "=========\n",
            "\n",
            "enter the letter:q\n",
            "['_', 'a', 't', 'r', '_', '_', '_', '_', '_', 'c']\n",
            "Game ended\n",
            "\n",
            "  +---+\n",
            "  |   |\n",
            "  O   |\n",
            " /|\\  |\n",
            " / \\  |\n",
            "      |\n",
            "=========\n",
            "\n",
            "['_', 'a', 't', 'r', '_', '_', '_', '_', '_', 'c']\n"
          ]
        }
      ]
    },
    {
      "cell_type": "markdown",
      "metadata": {
        "id": "QqmDJ0HHxc-S"
      },
      "source": [
        "# Functions with input\n",
        "\n",
        "parameter is the variable given in data, argument is actual value\n",
        "\n",
        "    def func(name_of_user):\n",
        "    ## here it is parameter\n",
        "------\n",
        "    func('Jake')\n",
        "    ## here it is argument   \n",
        "------\n",
        "    name_of_user = Jake (parameter = argument)  "
      ]
    },
    {
      "cell_type": "markdown",
      "metadata": {
        "id": "hRHgyyTz0RTG"
      },
      "source": [
        "### For postional arguments,\n",
        "we need to take care of position in below code, like it takes orderly from function parameters\n",
        "\n",
        "fun(a,b,c) ==> fun(3,2,1)\n",
        "\n",
        "### For keyword argumens,\n",
        "we need to don't need to take care position of code or arguments, as there are keys with input\n",
        "\n",
        "fun(a=1,c=3,b=2)   <--- keyword arguments"
      ]
    },
    {
      "cell_type": "code",
      "metadata": {
        "id": "1ZJOFHF-1bTF",
        "colab": {
          "base_uri": "https://localhost:8080/"
        },
        "outputId": "9bba3386-20b9-4c8a-8e4f-f9f68c135597"
      },
      "source": [
        "import math\n",
        "test_h = int(input('The wall height '))\n",
        "test_w = int(input('The wall width '))\n",
        "coverage_per_can = int(input('How much a can cover: '))\n",
        "\n",
        "def paint_a_wall(height,width,coverage):  #we can also add some default arguments here\n",
        "  required_cans = math.ceil((height*width)/coverage)  # ceil gives highest whole number, round gives bottom one\n",
        "  print(required_cans)\n",
        "\n",
        "paint_a_wall(height=test_h,width=test_w,coverage=coverage_per_can)"
      ],
      "execution_count": 10,
      "outputs": [
        {
          "output_type": "stream",
          "name": "stdout",
          "text": [
            "The wall height 5\n",
            "The wall width 6\n",
            "How much a can cover: 3\n",
            "10\n"
          ]
        }
      ]
    },
    {
      "cell_type": "markdown",
      "metadata": {
        "id": "5eXZkoAn5H6Q"
      },
      "source": [
        "### Prime number checker\n",
        "A number which can be divided by one and itself, if it's divisible by other it is not a prime"
      ]
    },
    {
      "cell_type": "code",
      "metadata": {
        "colab": {
          "base_uri": "https://localhost:8080/"
        },
        "id": "rXDQoLF43k8p",
        "outputId": "1e89d518-ce91-4c5a-f21b-018298de3ad0"
      },
      "source": [
        "def prime_checker(number):\n",
        "  is_prime = True\n",
        "  for new in range(2,number):\n",
        "    if number % new == 0:\n",
        "      is_prime = False \n",
        "    if is_prime:\n",
        "      print('It is a prime')\n",
        "    else:\n",
        "      print('It is not a prime')  \n",
        "prime_checker(8)"
      ],
      "execution_count": 16,
      "outputs": [
        {
          "output_type": "stream",
          "name": "stdout",
          "text": [
            "It is not a prime\n",
            "It is not a prime\n",
            "It is not a prime\n",
            "It is not a prime\n",
            "It is not a prime\n",
            "It is not a prime\n"
          ]
        }
      ]
    },
    {
      "cell_type": "markdown",
      "metadata": {
        "id": "maEnd7-L8u4u"
      },
      "source": [
        "# Ceaser Cipher"
      ]
    },
    {
      "cell_type": "code",
      "metadata": {
        "colab": {
          "base_uri": "https://localhost:8080/"
        },
        "id": "-l6tEyXG6UZf",
        "outputId": "bf1e21bc-f242-4423-aab9-0cf6e40babdf"
      },
      "source": [
        "alphabets = ['a','b','c','d','e','f','g','h','i','j','k','l','m','n','o','p','q','r','s','t','u','v','w','x','y','z','a','b','c','d','e','f','g','h','i','j','k','l','m','n','o','p','q','r','s','t','u','v','w','x','y','z']\n",
        "direction = input(\"Type 'encode' for encoding, 'decode' for decoding:\")\n",
        "user_message = input('Your message here: ').lower()\n",
        "shift = int(input('Number of positions to shift: '))\n",
        "\n",
        "def encrypt(plain_text, shift_amount):\n",
        "  cipher_text = \"\"\n",
        "  for letter in plain_text:\n",
        "    position = alphabets.index(letter)\n",
        "    new_position = position + shift_amount\n",
        "    cipher_text += alphabets[new_position]\n",
        "  print(f\"The encoded text is {cipher_text}\")\n",
        "\n",
        "def decrypt(cipher_text, shift_amount):\n",
        "  plain_text = \"\"\n",
        "  for letter in cipher_text:\n",
        "    position = alphabets.index(letter)\n",
        "    new_position = position - shift_amount\n",
        "    plain_text += alphabets[new_position]\n",
        "  print(f\"The decoded text is {plain_text}\")\n",
        "\n",
        "if direction == 'encode':\n",
        "  encrypt(plain_text=user_message,shift_amount = shift)  \n",
        "if direction == 'decode':\n",
        "  decrypt(cipher_text==user_message,shift_amount = shift) "
      ],
      "execution_count": 47,
      "outputs": [
        {
          "output_type": "stream",
          "name": "stdout",
          "text": [
            "Type 'encode' for encoding, 'decode' for decoding:encode\n",
            "Your message here: hello\n",
            "Number of positions to shift: 3\n",
            "The encoded text is khoor\n"
          ]
        }
      ]
    },
    {
      "cell_type": "code",
      "metadata": {
        "id": "fVI-zF_Q7vdl"
      },
      "source": [
        ""
      ],
      "execution_count": 48,
      "outputs": []
    },
    {
      "cell_type": "code",
      "metadata": {
        "id": "rxhDY1LzFayB"
      },
      "source": [
        ""
      ],
      "execution_count": null,
      "outputs": []
    }
  ]
}